{
  "nbformat": 4,
  "nbformat_minor": 0,
  "metadata": {
    "colab": {
      "provenance": [],
      "authorship_tag": "ABX9TyNTgkOykPkvh2ZfKrRXViGY",
      "include_colab_link": true
    },
    "kernelspec": {
      "name": "python3",
      "display_name": "Python 3"
    },
    "language_info": {
      "name": "python"
    }
  },
  "cells": [
    {
      "cell_type": "markdown",
      "metadata": {
        "id": "view-in-github",
        "colab_type": "text"
      },
      "source": [
        "<a href=\"https://colab.research.google.com/github/Kritanshup/pythonLearnings/blob/main/FirstProgram.ipynb\" target=\"_parent\"><img src=\"https://colab.research.google.com/assets/colab-badge.svg\" alt=\"Open In Colab\"/></a>"
      ]
    },
    {
      "cell_type": "code",
      "execution_count": 3,
      "metadata": {
        "colab": {
          "base_uri": "https://localhost:8080/"
        },
        "id": "qWW3_G9NFRDU",
        "outputId": "47ba9f05-1a08-4624-f22f-1d5ba40457b0"
      },
      "outputs": [
        {
          "output_type": "stream",
          "name": "stdout",
          "text": [
            "[\n",
            "\n",
            "  {\"Series\":\"I\", \"X\":10.0, \"Y\":8.04},\n",
            "\n",
            "  {\"Series\":\"I\", \"X\":8.0, \"Y\":6.95},\n",
            "\n",
            "  {\"Series\":\"I\", \"X\":13.0, \"Y\":7.58},\n",
            "\n",
            "  {\"Series\":\"I\", \"X\":9.0, \"Y\":8.81},\n",
            "\n",
            "  {\"Series\":\"I\", \"X\":11.0, \"Y\":8.33},\n",
            "\n",
            "  {\"Series\":\"I\", \"X\":14.0, \"Y\":9.96},\n",
            "\n",
            "  {\"Series\":\"I\", \"X\":6.0, \"Y\":7.24},\n",
            "\n",
            "  {\"Series\":\"I\", \"X\":4.0, \"Y\":4.26},\n",
            "\n",
            "  {\"Series\":\"I\", \"X\":12.0, \"Y\":10.84},\n",
            "\n",
            "  {\"Series\":\"I\", \"X\":7.0, \"Y\":4.81},\n",
            "\n",
            "  {\"Series\":\"I\", \"X\":5.0, \"Y\":5.68},\n",
            "\n",
            "\n",
            "\n",
            "  {\"Series\":\"II\", \"X\":10.0, \"Y\":9.14},\n",
            "\n",
            "  {\"Series\":\"II\", \"X\":8.0, \"Y\":8.14},\n",
            "\n",
            "  {\"Series\":\"II\", \"X\":13.0, \"Y\":8.74},\n",
            "\n",
            "  {\"Series\":\"II\", \"X\":9.0, \"Y\":8.77},\n",
            "\n",
            "  {\"Series\":\"II\", \"X\":11.0, \"Y\":9.26},\n",
            "\n",
            "  {\"Series\":\"II\", \"X\":14.0, \"Y\":8.10},\n",
            "\n",
            "  {\"Series\":\"II\", \"X\":6.0, \"Y\":6.13},\n",
            "\n",
            "  {\"Series\":\"II\", \"X\":4.0, \"Y\":3.10},\n",
            "\n",
            "  {\"Series\":\"II\", \"X\":12.0, \"Y\":9.13},\n",
            "\n",
            "  {\"Series\":\"II\", \"X\":7.0, \"Y\":7.26},\n",
            "\n",
            "  {\"Series\":\"II\", \"X\":5.0, \"Y\":4.74},\n",
            "\n",
            "\n",
            "\n",
            "  {\"Series\":\"III\", \"X\":10.0, \"Y\":7.46},\n",
            "\n",
            "  {\"Series\":\"III\", \"X\":8.0, \"Y\":6.77},\n",
            "\n",
            "  {\"Series\":\"III\", \"X\":13.0, \"Y\":12.74},\n",
            "\n",
            "  {\"Series\":\"III\", \"X\":9.0, \"Y\":7.11},\n",
            "\n",
            "  {\"Series\":\"III\", \"X\":11.0, \"Y\":7.81},\n",
            "\n",
            "  {\"Series\":\"III\", \"X\":14.0, \"Y\":8.84},\n",
            "\n",
            "  {\"Series\":\"III\", \"X\":6.0, \"Y\":6.08},\n",
            "\n",
            "  {\"Series\":\"III\", \"X\":4.0, \"Y\":5.39},\n",
            "\n",
            "  {\"Series\":\"III\", \"X\":12.0, \"Y\":8.15},\n",
            "\n",
            "  {\"Series\":\"III\", \"X\":7.0, \"Y\":6.42},\n",
            "\n",
            "  {\"Series\":\"III\", \"X\":5.0, \"Y\":5.73},\n",
            "\n",
            "\n",
            "\n",
            "  {\"Series\":\"IV\", \"X\":8.0, \"Y\":6.58},\n",
            "\n",
            "  {\"Series\":\"IV\", \"X\":8.0, \"Y\":5.76},\n",
            "\n",
            "  {\"Series\":\"IV\", \"X\":8.0, \"Y\":7.71},\n",
            "\n",
            "  {\"Series\":\"IV\", \"X\":8.0, \"Y\":8.84},\n",
            "\n",
            "  {\"Series\":\"IV\", \"X\":8.0, \"Y\":8.47},\n",
            "\n",
            "  {\"Series\":\"IV\", \"X\":8.0, \"Y\":7.04},\n",
            "\n",
            "  {\"Series\":\"IV\", \"X\":8.0, \"Y\":5.25},\n",
            "\n",
            "  {\"Series\":\"IV\", \"X\":19.0, \"Y\":12.50},\n",
            "\n",
            "  {\"Series\":\"IV\", \"X\":8.0, \"Y\":5.56},\n",
            "\n",
            "  {\"Series\":\"IV\", \"X\":8.0, \"Y\":7.91},\n",
            "\n",
            "  {\"Series\":\"IV\", \"X\":8.0, \"Y\":6.89}\n",
            "\n",
            "]\n",
            "\n"
          ]
        }
      ],
      "source": [
        "import json\n",
        "\n",
        "with open('sample_data/anscombe.json', 'r') as questions:\n",
        "  for lines in questions:\n",
        "    print(lines)"
      ]
    },
    {
      "cell_type": "markdown",
      "source": [
        "Ardit Sulce Exercise - Day 15"
      ],
      "metadata": {
        "id": "H_w8N0IgQXSg"
      }
    },
    {
      "cell_type": "code",
      "source": [
        "import random\n",
        "\n",
        "ub_num = int(input(\"Enter Upper Bound\"))\n",
        "lb_num = int(input(\"Enter Lower Bound\"))\n",
        "\n",
        "print(random.randrange(ub_num, lb_num))"
      ],
      "metadata": {
        "colab": {
          "base_uri": "https://localhost:8080/"
        },
        "id": "wzjh_24IPSp6",
        "outputId": "e7ec5837-670d-434e-dbed-739a94cb8196"
      },
      "execution_count": 4,
      "outputs": [
        {
          "output_type": "stream",
          "name": "stdout",
          "text": [
            "Enter Upper Bound3\n",
            "Enter Lower Bound7\n",
            "5\n"
          ]
        }
      ]
    }
  ]
}